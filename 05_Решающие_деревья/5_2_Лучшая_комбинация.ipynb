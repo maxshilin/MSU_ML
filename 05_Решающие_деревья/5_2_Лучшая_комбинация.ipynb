{
 "cells": [
  {
   "cell_type": "code",
   "execution_count": 55,
   "metadata": {},
   "outputs": [],
   "source": [
    "import numpy as np\n",
    "import pandas as pd\n",
    "\n",
    "from sklearn.tree import DecisionTreeRegressor\n",
    "from sklearn.model_selection import train_test_split\n",
    "from sklearn.preprocessing import LabelEncoder\n",
    "from sklearn.model_selection import cross_validate"
   ]
  },
  {
   "cell_type": "code",
   "execution_count": 56,
   "metadata": {},
   "outputs": [
    {
     "name": "stdout",
     "output_type": "stream",
     "text": [
      "   carat  cut  color  clarity  depth  table  price     x     y     z\n",
      "0   0.23    2      1        3   61.5   55.0    326  3.95  3.98  2.43\n",
      "1   0.21    3      1        2   59.8   61.0    326  3.89  3.84  2.31\n",
      "2   0.23    1      1        4   56.9   65.0    327  4.05  4.07  2.31\n",
      "3   0.29    3      5        5   62.4   58.0    334  4.20  4.23  2.63\n",
      "4   0.31    1      6        3   63.3   58.0    335  4.34  4.35  2.75\n"
     ]
    }
   ],
   "source": [
    "df = pd.read_csv(\"TRAIN.csv\").drop(\"Unnamed: 0\",axis=1)\n",
    "\n",
    "labelencoder = LabelEncoder()\n",
    "df[\"cut\"] = labelencoder.fit_transform(df[\"cut\"])\n",
    "df[\"color\"] = labelencoder.fit_transform(df[\"color\"])\n",
    "df[\"clarity\"] = labelencoder.fit_transform(df[\"clarity\"])\n",
    "print(df.head(5))"
   ]
  },
  {
   "cell_type": "code",
   "execution_count": 65,
   "metadata": {},
   "outputs": [
    {
     "name": "stdout",
     "output_type": "stream",
     "text": [
      "[0.33350370126029216, 0.3111531379922192, -64.63413530238411, 0.3004403207102102, 0.30074964343518296, -59.30256471601406]\n"
     ]
    }
   ],
   "source": [
    "y = df[\"price\"].to_numpy()\n",
    "X = df[[\"carat\", \"cut\", \"color\", \"clarity\", \"depth\", \"table\", \"x\", \"y\", \"z\"]].to_numpy()\n",
    "pairs = [\n",
    "    (\"squared_error\", 12),\n",
    "    (\"friedman_mse\", 16),\n",
    "    (\"poisson\", 22),\n",
    "    (\"squared_error\", 45),\n",
    "    (\"friedman_mse\", 95),\n",
    "    (\"poisson\", 33),\n",
    "]\n",
    "\n",
    "scores = []\n",
    "for pair in pairs:\n",
    "    reg = DecisionTreeRegressor(criterion=pair[0], max_depth=pair[1], random_state=42)\n",
    "    scores.append(np.mean(cross_validate(reg, X, y, cv=10, scoring=('r2'))[\"test_score\"]))\n",
    "    \n",
    "print(scores)"
   ]
  },
  {
   "cell_type": "code",
   "execution_count": null,
   "metadata": {},
   "outputs": [],
   "source": []
  }
 ],
 "metadata": {
  "kernelspec": {
   "display_name": "Python 3.9.12 ('base')",
   "language": "python",
   "name": "python3"
  },
  "language_info": {
   "codemirror_mode": {
    "name": "ipython",
    "version": 3
   },
   "file_extension": ".py",
   "mimetype": "text/x-python",
   "name": "python",
   "nbconvert_exporter": "python",
   "pygments_lexer": "ipython3",
   "version": "3.9.12"
  },
  "orig_nbformat": 4,
  "vscode": {
   "interpreter": {
    "hash": "c2032020440b0bd724902a671edb93f8cebb68488612e100320a0417abc157de"
   }
  }
 },
 "nbformat": 4,
 "nbformat_minor": 2
}
