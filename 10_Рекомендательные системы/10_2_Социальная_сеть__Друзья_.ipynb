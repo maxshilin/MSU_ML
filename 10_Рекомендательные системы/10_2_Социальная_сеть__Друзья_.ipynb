{
  "cells": [
    {
      "cell_type": "code",
      "execution_count": 1,
      "metadata": {
        "id": "TnjjrahyC2RG"
      },
      "outputs": [],
      "source": [
        "import numpy as np\n",
        "\n",
        "class friendadviser:\n",
        "    def __init__(self):\n",
        "        self.R = None\n",
        "\n",
        "    def fit(self, R):\n",
        "        self.R = R\n",
        "\n",
        "    def _sim(self, user):\n",
        "        n_xy = np.dot(self.R, user)\n",
        "\n",
        "        return n_xy / (np.sum(self.R, axis=1) * np.sum(user))\n",
        "\n",
        "    def U_idx(self, u0, alpha):\n",
        "        simul_matrix = self._sim(u0)\n",
        "\n",
        "        return np.argwhere(simul_matrix > alpha).ravel()\n",
        "\n",
        "    def find_friends(self, u0, how_many):\n",
        "        simul_matrix = self._sim(u0)\n",
        "\n",
        "        return np.argsort(simul_matrix)[::-1][:how_many]\n"
      ]
    },
    {
      "cell_type": "code",
      "execution_count": null,
      "metadata": {},
      "outputs": [],
      "source": []
    }
  ],
  "metadata": {
    "colab": {
      "provenance": []
    },
    "kernelspec": {
      "display_name": "Python 3",
      "language": "python",
      "name": "python3"
    },
    "language_info": {
      "codemirror_mode": {
        "name": "ipython",
        "version": 3
      },
      "file_extension": ".py",
      "mimetype": "text/x-python",
      "name": "python",
      "nbconvert_exporter": "python",
      "pygments_lexer": "ipython3",
      "version": "3.10.7"
    },
    "vscode": {
      "interpreter": {
        "hash": "8ae210f5a0752e57d445e8520e7c975fc8e96da27ef5b8dc629a037e13036606"
      }
    }
  },
  "nbformat": 4,
  "nbformat_minor": 0
}
