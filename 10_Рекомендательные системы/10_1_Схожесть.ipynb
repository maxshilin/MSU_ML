{
  "cells": [
    {
      "cell_type": "code",
      "execution_count": 1,
      "metadata": {
        "id": "R8BnN4eK_WM7"
      },
      "outputs": [],
      "source": [
        "import numpy as np\n",
        "from numpy.linalg import svd\n",
        "from sklearn.neighbors import NearestNeighbors\n",
        "\n",
        "\n",
        "class similaryty_analizer:\n",
        "    def __init__(self, R: np.array):\n",
        "        self.R = R\n",
        "        self.n_users = R.shape[0]\n",
        "        self.n_items = R.shape[1]\n",
        "\n",
        "    def _get_svd(self, new_dim: int):\n",
        "        U, S, V = svd(self.R)\n",
        "\n",
        "        U = U[:, :new_dim]\n",
        "        S = np.diag(S[:new_dim])\n",
        "        V = V[:new_dim, :]\n",
        "\n",
        "        P = np.matmul(U, S)\n",
        "        Q = V.T\n",
        "        return P, Q\n",
        "\n",
        "    def get_similar_users(self, n_users: int, user_id: int):\n",
        "        if n_users > self.n_users - 1:\n",
        "            n_users = self.n_users - 1\n",
        "\n",
        "        P, Q = self._get_svd(self.n_users)\n",
        "\n",
        "        nn = NearestNeighbors(n_neighbors=n_users + 1)\n",
        "        nn = nn.fit(P)\n",
        "\n",
        "        user = P[user_id, :]\n",
        "        neighbours = nn.kneighbors(user.reshape(1, -1), return_distance=False)[:, 1:].ravel()\n",
        "        return neighbours\n",
        "\n",
        "    def get_similar_items(self, n_items: int, item_id: int):\n",
        "        if n_items > self.n_items - 1:\n",
        "            n_items = self.n_items - 1\n",
        "            \n",
        "        P, Q = self._get_svd(self.n_items)\n",
        "\n",
        "        nn = NearestNeighbors(n_neighbors=n_items + 1)\n",
        "        nn = nn.fit(Q)\n",
        "\n",
        "        item = Q[item_id, :]\n",
        "        neighbours = nn.kneighbors(item.reshape(1, -1), return_distance=False)[:, 1:].ravel()\n",
        "        return neighbours\n"
      ]
    },
    {
      "cell_type": "code",
      "execution_count": 2,
      "metadata": {
        "colab": {
          "base_uri": "https://localhost:8080/"
        },
        "id": "ryn4bKzYt9N1",
        "outputId": "89ca40ee-25a3-4b6c-b358-e3dd37931fee"
      },
      "outputs": [
        {
          "data": {
            "text/plain": [
              "array([[1, 0, 0],\n",
              "       [1, 1, 0],\n",
              "       [1, 1, 1]])"
            ]
          },
          "execution_count": 2,
          "metadata": {},
          "output_type": "execute_result"
        }
      ],
      "source": [
        "r1 = [1, 0, 0]\n",
        "r2 = [1, 1, 0]\n",
        "r3 = [1, 1, 1]\n",
        "\n",
        "R = np.array([r1, r2, r3])\n",
        "R"
      ]
    },
    {
      "cell_type": "code",
      "execution_count": 3,
      "metadata": {
        "colab": {
          "base_uri": "https://localhost:8080/"
        },
        "id": "Wq76aaZhuGpI",
        "outputId": "8f74498a-408e-4fe7-d608-924c3e71c4f8"
      },
      "outputs": [
        {
          "data": {
            "text/plain": [
              "array([1], dtype=int64)"
            ]
          },
          "execution_count": 3,
          "metadata": {},
          "output_type": "execute_result"
        }
      ],
      "source": [
        "SA = similaryty_analizer(R)\n",
        "SA.get_similar_users(1, 0)"
      ]
    },
    {
      "cell_type": "code",
      "execution_count": 4,
      "metadata": {
        "colab": {
          "base_uri": "https://localhost:8080/"
        },
        "id": "I_WrbCd3uSOQ",
        "outputId": "56355b2d-63e2-4e31-e1c8-4cd834d46b56"
      },
      "outputs": [
        {
          "data": {
            "text/plain": [
              "array([1, 2], dtype=int64)"
            ]
          },
          "execution_count": 4,
          "metadata": {},
          "output_type": "execute_result"
        }
      ],
      "source": [
        "SA.get_similar_users(2, 0)"
      ]
    },
    {
      "cell_type": "code",
      "execution_count": 5,
      "metadata": {
        "colab": {
          "base_uri": "https://localhost:8080/"
        },
        "id": "boxKlC_huTEA",
        "outputId": "2455e413-3ab2-4ab3-c6a5-96256b4f14c6"
      },
      "outputs": [
        {
          "data": {
            "text/plain": [
              "array([0, 2], dtype=int64)"
            ]
          },
          "execution_count": 5,
          "metadata": {},
          "output_type": "execute_result"
        }
      ],
      "source": [
        "SA.get_similar_users(2, 1)"
      ]
    },
    {
      "cell_type": "code",
      "execution_count": null,
      "metadata": {
        "id": "ta5PK9bluY0E"
      },
      "outputs": [],
      "source": []
    }
  ],
  "metadata": {
    "colab": {
      "provenance": []
    },
    "kernelspec": {
      "display_name": "base",
      "language": "python",
      "name": "python3"
    },
    "language_info": {
      "codemirror_mode": {
        "name": "ipython",
        "version": 3
      },
      "file_extension": ".py",
      "mimetype": "text/x-python",
      "name": "python",
      "nbconvert_exporter": "python",
      "pygments_lexer": "ipython3",
      "version": "3.9.15 (main, Nov  4 2022, 16:35:55) [MSC v.1916 64 bit (AMD64)]"
    },
    "vscode": {
      "interpreter": {
        "hash": "c2032020440b0bd724902a671edb93f8cebb68488612e100320a0417abc157de"
      }
    }
  },
  "nbformat": 4,
  "nbformat_minor": 0
}
