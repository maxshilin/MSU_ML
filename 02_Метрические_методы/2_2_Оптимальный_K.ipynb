{
  "cells": [
    {
      "cell_type": "code",
      "execution_count": 8,
      "metadata": {
        "id": "dAqbxYEsBBnZ"
      },
      "outputs": [
        {
          "name": "stdout",
          "output_type": "stream",
          "text": [
            "11\n"
          ]
        }
      ],
      "source": [
        "import sklearn\n",
        "import numpy as np\n",
        "from sklearn.model_selection import cross_val_score\n",
        "from sklearn.neighbors import KNeighborsClassifier\n",
        "\n",
        "random_seed = 4238\n",
        "\n",
        "np.random.seed(random_seed)\n",
        "n_splits = 3\n",
        "k_max = 51\n",
        "from sklearn.datasets import load_breast_cancer\n",
        "\n",
        "X, y = load_breast_cancer(return_X_y=True)\n",
        "\n",
        "\"\"\"\n",
        "  Здесь Вам предлагается написать тело цикла для подбора оптимального K\n",
        "  Результаты оценки алгоритма при каждом отдельно взятом K рекомендуем записывать в список cv_scores\n",
        "\"\"\"\n",
        "cv_scores = np.empty(k_max - 1, dtype=np.float64)\n",
        "for k in range(1, k_max):\n",
        "    clf = KNeighborsClassifier(n_neighbors=k, p=2)\n",
        "    cv_scores[k - 1] = np.mean(cross_val_score(clf, X, y, cv=n_splits))\n",
        "\n",
        "\n",
        "print(np.argmax(cv_scores) + 1)"
      ]
    },
    {
      "cell_type": "code",
      "execution_count": null,
      "metadata": {
        "id": "2mZHYKS2BLhr"
      },
      "outputs": [],
      "source": []
    }
  ],
  "metadata": {
    "colab": {
      "collapsed_sections": [],
      "provenance": []
    },
    "kernelspec": {
      "display_name": "Python 3.9.12 ('base')",
      "language": "python",
      "name": "python3"
    },
    "language_info": {
      "codemirror_mode": {
        "name": "ipython",
        "version": 3
      },
      "file_extension": ".py",
      "mimetype": "text/x-python",
      "name": "python",
      "nbconvert_exporter": "python",
      "pygments_lexer": "ipython3",
      "version": "3.9.12"
    },
    "vscode": {
      "interpreter": {
        "hash": "c2032020440b0bd724902a671edb93f8cebb68488612e100320a0417abc157de"
      }
    }
  },
  "nbformat": 4,
  "nbformat_minor": 0
}
