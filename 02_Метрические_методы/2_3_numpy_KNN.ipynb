{
  "cells": [
    {
      "cell_type": "code",
      "execution_count": 81,
      "metadata": {},
      "outputs": [],
      "source": [
        "from collections import defaultdict\n",
        "import numpy as np\n",
        "from numpy.linalg import norm\n",
        "\n",
        "\n",
        "class KNN_classifier:\n",
        "    def __init__(self, n_neighbors: int, p: int = 2):\n",
        "        self.K = n_neighbors\n",
        "        self.p = p\n",
        "        self.x = None\n",
        "        self.y = None\n",
        "\n",
        "    def fit(self, x: np.array, y: np.array):\n",
        "        self.x = x\n",
        "        self.y = y\n",
        "\n",
        "    def predict(self, x: np.array):\n",
        "        if self.x is None or self.y is None:\n",
        "            raise Exception\n",
        "\n",
        "        predicted = []\n",
        "        for point in x:\n",
        "            indices = np.argsort(self.__norm(point))[: self.K]\n",
        "            counter = defaultdict(lambda: 0)\n",
        "\n",
        "            for idx in indices:\n",
        "                counter[self.y[idx]] += 1\n",
        "\n",
        "            sorted_counter = sorted(counter, key=counter.__getitem__)\n",
        "            predicted.append(sorted_counter[-1])\n",
        "\n",
        "        return predicted\n",
        "\n",
        "    def __norm(self, point: np.array):\n",
        "        output = np.empty(self.x.shape[0], dtype=np.float64)\n",
        "        output[:] = norm((self.x - point), ord=self.p, axis=1)\n",
        "        return output"
      ]
    },
    {
      "cell_type": "code",
      "execution_count": 85,
      "metadata": {
        "id": "fRp5zgNrBbwq"
      },
      "outputs": [
        {
          "name": "stdout",
          "output_type": "stream",
          "text": [
            "0.9649122807017544\n"
          ]
        }
      ],
      "source": [
        "import sklearn\n",
        "from sklearn.datasets import load_breast_cancer\n",
        "from sklearn.metrics import accuracy_score\n",
        "from sklearn.model_selection import train_test_split\n",
        "\n",
        "X, y = load_breast_cancer(return_X_y=True)\n",
        "X_train, x_test, y_train, y_test = train_test_split(\n",
        "    X, y, test_size=0.3, shuffle=True, random_state=42\n",
        ")\n",
        "\n",
        "clf = KNN_classifier(n_neighbors=7, p=2)\n",
        "clf.fit(X_train, y_train)\n",
        "\n",
        "predictions = clf.predict(x_test)\n",
        "print(accuracy_score(y_test, predictions))"
      ]
    },
    {
      "cell_type": "code",
      "execution_count": 83,
      "metadata": {},
      "outputs": [
        {
          "name": "stdout",
          "output_type": "stream",
          "text": [
            "15 ms ± 1.63 ms per loop (mean ± std. dev. of 7 runs, 1 loop each)\n"
          ]
        }
      ],
      "source": [
        "%%timeit -n1\n",
        "predictions = clf.predict(x_test)"
      ]
    },
    {
      "cell_type": "code",
      "execution_count": null,
      "metadata": {},
      "outputs": [],
      "source": []
    }
  ],
  "metadata": {
    "colab": {
      "collapsed_sections": [],
      "provenance": []
    },
    "kernelspec": {
      "display_name": "Python 3.9.12 ('base')",
      "language": "python",
      "name": "python3"
    },
    "language_info": {
      "codemirror_mode": {
        "name": "ipython",
        "version": 3
      },
      "file_extension": ".py",
      "mimetype": "text/x-python",
      "name": "python",
      "nbconvert_exporter": "python",
      "pygments_lexer": "ipython3",
      "version": "3.9.12"
    },
    "vscode": {
      "interpreter": {
        "hash": "c2032020440b0bd724902a671edb93f8cebb68488612e100320a0417abc157de"
      }
    }
  },
  "nbformat": 4,
  "nbformat_minor": 0
}
