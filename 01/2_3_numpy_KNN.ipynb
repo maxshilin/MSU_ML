{
  "cells": [
    {
      "cell_type": "code",
      "execution_count": 161,
      "metadata": {
        "id": "lrYLUYPGBUeI"
      },
      "outputs": [],
      "source": [
        "from collections import defaultdict\n",
        "import numpy as np\n",
        "from numpy.linalg import norm\n",
        "\n",
        "\n",
        "class KNN_classifier:\n",
        "    def __init__(self, n_neighbors: int, p: int = 2):\n",
        "        self.K = n_neighbors\n",
        "        self.p =p\n",
        "        self.x = None\n",
        "        self.y = None\n",
        "\n",
        "    def fit(self, x: np.array, y: np.array):\n",
        "        self.x = x\n",
        "        self.y = y\n",
        "\n",
        "    def predict(self, x: np.array):\n",
        "        if self.x is None or self.y is None:\n",
        "            raise Exception\n",
        "\n",
        "        predicted = []\n",
        "        for point in x:\n",
        "            predicted.append(self.__find_class(point))\n",
        "            \n",
        "        return predicted\n",
        "\n",
        "    def __find_class(self, point: np.array):\n",
        "        indices = np.argsort([norm((x - point), ord=self.p) for x in self.x])\n",
        "        counter = defaultdict(lambda: 0)\n",
        "\n",
        "        for i in range(self.K):\n",
        "            num = self.y[indices[i]]\n",
        "            counter[num] += 1\n",
        "\n",
        "        sorted_counter = sorted(counter, key=counter.__getitem__)\n",
        "        return sorted_counter[-1]"
      ]
    },
    {
      "cell_type": "code",
      "execution_count": 162,
      "metadata": {
        "id": "fRp5zgNrBbwq"
      },
      "outputs": [
        {
          "name": "stdout",
          "output_type": "stream",
          "text": [
            "0.9766081871345029\n"
          ]
        }
      ],
      "source": [
        "import sklearn\n",
        "from sklearn.neighbors import KNeighborsClassifier\n",
        "from sklearn.datasets import load_breast_cancer\n",
        "from sklearn.metrics import accuracy_score\n",
        "from sklearn.model_selection import train_test_split\n",
        "\n",
        "X, y = load_breast_cancer(return_X_y=True)\n",
        "X_train, x_test, y_train, y_test = train_test_split(\n",
        "    X, y, test_size=0.3, shuffle=True, random_state=42\n",
        ")\n",
        "\n",
        "clf = KNN_classifier(n_neighbors=8, p=1)\n",
        "clf.fit(X_train, y_train)\n",
        "\n",
        "predictions = clf.predict(x_test)\n",
        "acc = accuracy_score(y_test, predictions)\n",
        "print(acc)"
      ]
    },
    {
      "cell_type": "code",
      "execution_count": null,
      "metadata": {},
      "outputs": [],
      "source": []
    }
  ],
  "metadata": {
    "colab": {
      "collapsed_sections": [],
      "provenance": []
    },
    "kernelspec": {
      "display_name": "Python 3.9.12 ('base')",
      "language": "python",
      "name": "python3"
    },
    "language_info": {
      "codemirror_mode": {
        "name": "ipython",
        "version": 3
      },
      "file_extension": ".py",
      "mimetype": "text/x-python",
      "name": "python",
      "nbconvert_exporter": "python",
      "pygments_lexer": "ipython3",
      "version": "3.9.12"
    },
    "vscode": {
      "interpreter": {
        "hash": "c2032020440b0bd724902a671edb93f8cebb68488612e100320a0417abc157de"
      }
    }
  },
  "nbformat": 4,
  "nbformat_minor": 0
}
