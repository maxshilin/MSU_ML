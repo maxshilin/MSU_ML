{
  "cells": [
    {
      "cell_type": "code",
      "execution_count": 2,
      "metadata": {
        "id": "rjX6v8Y8uImZ"
      },
      "outputs": [
        {
          "name": "stdout",
          "output_type": "stream",
          "text": [
            "[0.92791005 0.99794239 0.98052616 0.99588477] [0.96447552 0.99875396 0.98754243 0.99741534]\n",
            "2 2\n"
          ]
        }
      ],
      "source": [
        "import numpy as np\n",
        "from sklearn.datasets import load_breast_cancer\n",
        "from sklearn.model_selection import train_test_split\n",
        "from sklearn.neighbors import KNeighborsClassifier\n",
        "from sklearn.linear_model import LogisticRegression\n",
        "from sklearn.tree import DecisionTreeClassifier\n",
        "from sklearn.svm import SVC\n",
        "from sklearn.preprocessing import StandardScaler\n",
        "from sklearn.metrics import roc_auc_score\n",
        "from sklearn.metrics import auc\n",
        "from sklearn.metrics import precision_recall_curve\n",
        "\n",
        "\n",
        "X, y = load_breast_cancer(return_X_y=True)\n",
        "X_train, x_test, y_train, y_test = train_test_split(\n",
        "    X, y, test_size=0.3, random_state=42\n",
        ")\n",
        "\n",
        "scaler = StandardScaler()\n",
        "scaler.fit(X_train)\n",
        "\n",
        "X_train_scaled = scaler.fit_transform(X_train)\n",
        "x_test_scaled = scaler.fit_transform(x_test)\n",
        "\n",
        "classifiers = [\n",
        "    DecisionTreeClassifier(random_state=42),\n",
        "    LogisticRegression(random_state=42),\n",
        "    KNeighborsClassifier(n_neighbors=5),\n",
        "    SVC(probability=True, random_state=42),\n",
        "]\n",
        "\n",
        "roc_auc_scores = np.empty(len(classifiers), dtype=np.float64)\n",
        "pr_auc_scores = np.empty(len(classifiers), dtype=np.float64)\n",
        "\n",
        "for i, classifier in enumerate(classifiers):\n",
        "    classifier.fit(X_train_scaled, y_train)\n",
        "    y_pred_proba = classifier.predict_proba(x_test_scaled)[:, 1]\n",
        "    roc_auc_scores[i] = roc_auc_score(y_test, y_pred_proba)\n",
        "\n",
        "    precision, recall, _ = precision_recall_curve(y_test, y_pred_proba)\n",
        "    pr_auc_scores[i] = auc(recall, precision)\n",
        "\n",
        "print(roc_auc_scores, pr_auc_scores)\n",
        "print(roc_auc_scores.argmax() + 1, pr_auc_scores.argmax() + 1)\n"
      ]
    },
    {
      "cell_type": "code",
      "execution_count": null,
      "metadata": {},
      "outputs": [],
      "source": []
    }
  ],
  "metadata": {
    "colab": {
      "provenance": []
    },
    "kernelspec": {
      "display_name": "Python 3.9.12 ('base')",
      "language": "python",
      "name": "python3"
    },
    "language_info": {
      "codemirror_mode": {
        "name": "ipython",
        "version": 3
      },
      "file_extension": ".py",
      "mimetype": "text/x-python",
      "name": "python",
      "nbconvert_exporter": "python",
      "pygments_lexer": "ipython3",
      "version": "3.9.12"
    },
    "vscode": {
      "interpreter": {
        "hash": "c2032020440b0bd724902a671edb93f8cebb68488612e100320a0417abc157de"
      }
    }
  },
  "nbformat": 4,
  "nbformat_minor": 0
}
