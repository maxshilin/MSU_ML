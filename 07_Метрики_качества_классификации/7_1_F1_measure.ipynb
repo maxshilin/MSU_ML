{
  "cells": [
    {
      "cell_type": "code",
      "execution_count": null,
      "metadata": {
        "id": "DpNEqX0_cL9g"
      },
      "outputs": [],
      "source": [
        "import numpy as np\n",
        "\n",
        "\n",
        "def precision(y_true: np.array, y_pred: np.array):\n",
        "    return np.dot(y_true, y_pred) / y_pred.sum()\n",
        "    \n",
        "\n",
        "def recall(y_true: np.array, y_pred: np.array):\n",
        "    return np.dot(y_true, y_pred) / y_true.sum()\n",
        "    \n",
        "\n",
        "\n",
        "def f1(y_true: np.array, y_pred: np.array):\n",
        "    precision = precision(y_true, y_pred)\n",
        "    recall = recall(y_true, y_pred)\n",
        "    \n",
        "    return 2 * precision * recall / (precision + recall)"
      ]
    },
    {
      "cell_type": "code",
      "execution_count": null,
      "metadata": {
        "id": "L22iMOCteTHQ"
      },
      "outputs": [],
      "source": []
    }
  ],
  "metadata": {
    "colab": {
      "provenance": []
    },
    "kernelspec": {
      "display_name": "Python 3.9.12 ('base')",
      "language": "python",
      "name": "python3"
    },
    "language_info": {
      "name": "python",
      "version": "3.9.12"
    },
    "vscode": {
      "interpreter": {
        "hash": "c2032020440b0bd724902a671edb93f8cebb68488612e100320a0417abc157de"
      }
    }
  },
  "nbformat": 4,
  "nbformat_minor": 0
}
