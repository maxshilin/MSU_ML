{
  "cells": [
    {
      "cell_type": "code",
      "execution_count": null,
      "metadata": {
        "id": "CqVheJlAlX0i"
      },
      "outputs": [],
      "source": [
        "import numpy as np\n",
        "\n",
        "\n",
        "def err_table(y_true: np.array, y_pred: np.array):\n",
        "    K = np.unique(y_true).shape[0]\n",
        "    result = np.zeros((K, K))\n",
        "\n",
        "    for i, y in enumerate(y_true):\n",
        "        result[y][y_pred[i]] += 1\n",
        "\n",
        "    return result\n",
        "\n",
        "\n",
        "def micro_precision(er_table: np.array):\n",
        "    return np.mean(er_table.diagonal() / np.sum(er_table, axis=1))\n",
        "\n",
        "\n",
        "def macro_precision(er_table: np.array):\n",
        "    return er_table.diagonal() / np.sum(er_table, axis=1)\n",
        "\n",
        "\n",
        "def micro_recall(er_table: np.array):\n",
        "    return np.mean(er_table.diagonal() / np.sum(er_table, axis=0))\n",
        "\n",
        "\n",
        "def macro_recall(er_table: np.array):\n",
        "    return er_table.diagonal() / np.sum(er_table, axis=0)\n",
        "\n",
        "\n",
        "def micro_f1(er_table: np.array):\n",
        "    precision = micro_precision(er_table)\n",
        "    recall = micro_recall(er_table)\n",
        "\n",
        "    return 2 * precision * recall / (precision + recall)\n",
        "\n",
        "\n",
        "def macro_f1(er_table: np.array):\n",
        "    precision = macro_precision(er_table)\n",
        "    recall = macro_recall(er_table)\n",
        "\n",
        "    return np.mean(2 * precision * recall / (precision + recall))"
      ]
    },
    {
      "cell_type": "code",
      "execution_count": null,
      "metadata": {},
      "outputs": [],
      "source": []
    }
  ],
  "metadata": {
    "colab": {
      "provenance": []
    },
    "kernelspec": {
      "display_name": "Python 3.9.12 ('base')",
      "language": "python",
      "name": "python3"
    },
    "language_info": {
      "codemirror_mode": {
        "name": "ipython",
        "version": 3
      },
      "file_extension": ".py",
      "mimetype": "text/x-python",
      "name": "python",
      "nbconvert_exporter": "python",
      "pygments_lexer": "ipython3",
      "version": "3.9.12"
    },
    "vscode": {
      "interpreter": {
        "hash": "c2032020440b0bd724902a671edb93f8cebb68488612e100320a0417abc157de"
      }
    }
  },
  "nbformat": 4,
  "nbformat_minor": 0
}
