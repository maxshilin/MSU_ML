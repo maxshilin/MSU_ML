{
 "cells": [
  {
   "cell_type": "code",
   "execution_count": 2,
   "metadata": {},
   "outputs": [],
   "source": [
    "import numpy as np\n",
    "\n",
    "\n",
    "def steep_slope_method(x_train: np.array):\n",
    "    Len = x_train.shape[1]\n",
    "    result = np.empty(Len, dtype=np.float64)\n",
    "\n",
    "    _, D, _ = np.linalg.svd(x_train)\n",
    "    cummulative = np.sum(D)\n",
    "\n",
    "    for i in range(Len):\n",
    "        result[i] = np.sum(D[i:]) / cummulative\n",
    "        \n",
    "    return result"
   ]
  },
  {
   "cell_type": "code",
   "execution_count": 7,
   "metadata": {},
   "outputs": [
    {
     "name": "stdout",
     "output_type": "stream",
     "text": [
      "[12]\n"
     ]
    }
   ],
   "source": [
    "file = r\"dataset/PCA.npy\"\n",
    "x_train = np.load(file)\n",
    "\n",
    "print(np.argwhere(steep_slope_method(x_train) < 0.2)[0])"
   ]
  },
  {
   "cell_type": "code",
   "execution_count": null,
   "metadata": {},
   "outputs": [],
   "source": []
  }
 ],
 "metadata": {
  "kernelspec": {
   "display_name": "Python 3.9.15 ('base')",
   "language": "python",
   "name": "python3"
  },
  "language_info": {
   "codemirror_mode": {
    "name": "ipython",
    "version": 3
   },
   "file_extension": ".py",
   "mimetype": "text/x-python",
   "name": "python",
   "nbconvert_exporter": "python",
   "pygments_lexer": "ipython3",
   "version": "3.9.15"
  },
  "orig_nbformat": 4,
  "vscode": {
   "interpreter": {
    "hash": "c2032020440b0bd724902a671edb93f8cebb68488612e100320a0417abc157de"
   }
  }
 },
 "nbformat": 4,
 "nbformat_minor": 2
}
