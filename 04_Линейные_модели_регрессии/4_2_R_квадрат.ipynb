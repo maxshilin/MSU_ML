{
 "cells": [
  {
   "cell_type": "code",
   "execution_count": null,
   "metadata": {},
   "outputs": [],
   "source": [
    "import numpy as np\n",
    "\n",
    "\n",
    "def r2(y_true: np.array, y_pred: np.array):\n",
    "    De = np.sum(np.power(y_true - y_pred, 2))\n",
    "    Dz = np.sum(np.power(y_true - y_true.mean(), 2))\n",
    "    return 1 - De / Dz"
   ]
  }
 ],
 "metadata": {
  "kernelspec": {
   "display_name": "Python 3.9.12 ('base')",
   "language": "python",
   "name": "python3"
  },
  "language_info": {
   "name": "python",
   "version": "3.9.12"
  },
  "orig_nbformat": 4,
  "vscode": {
   "interpreter": {
    "hash": "c2032020440b0bd724902a671edb93f8cebb68488612e100320a0417abc157de"
   }
  }
 },
 "nbformat": 4,
 "nbformat_minor": 2
}
