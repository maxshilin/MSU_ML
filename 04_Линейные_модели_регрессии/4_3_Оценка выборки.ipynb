{
 "cells": [
  {
   "cell_type": "code",
   "execution_count": 19,
   "metadata": {},
   "outputs": [],
   "source": [
    "import numpy as np\n",
    "\n",
    "\n",
    "def r2(y_true, y_pred):\n",
    "    De = np.sum(np.power(y_true - y_pred, 2))\n",
    "    Dz = np.sum(np.power(y_true - y_true.mean(), 2))\n",
    "    return 1 - De / Dz\n",
    "\n",
    "\n",
    "class LinearRegression:\n",
    "    def __init__(self):\n",
    "        self.w = None\n",
    "\n",
    "    def fit(self, x: np.array, y: np.array):\n",
    "        X = np.concatenate((x, np.ones((x.shape[0], 1))), axis=1)\n",
    "        self.w = np.linalg.inv(X.T @ X) @ X.T @ y\n",
    "\n",
    "    def predict(self, x: np.array):\n",
    "        X = np.concatenate((x, np.ones((x.shape[0], 1))), axis=1)\n",
    "        return X @ self.w.T"
   ]
  },
  {
   "cell_type": "code",
   "execution_count": 41,
   "metadata": {},
   "outputs": [
    {
     "name": "stdout",
     "output_type": "stream",
     "text": [
      "[0.8804493891389981, 0.6049683606213805, 0.9436398449037311, 0.18606626924708636, 0.848322909283604]\n"
     ]
    }
   ],
   "source": [
    "import os\n",
    "\n",
    "\n",
    "reg = LinearRegression()\n",
    "out = []\n",
    "\n",
    "root = r\"datasets\"\n",
    "for filename in os.listdir(root):\n",
    "    x = np.load(os.path.join(root, filename))\n",
    "    y = x[:, 1]\n",
    "    X = x[:, 0].reshape((-1, 1))\n",
    "    reg.fit(X, y)\n",
    "    out.append(r2(y, reg.predict(X)))\n",
    "\n",
    "print(out)"
   ]
  },
  {
   "cell_type": "code",
   "execution_count": null,
   "metadata": {},
   "outputs": [],
   "source": []
  }
 ],
 "metadata": {
  "kernelspec": {
   "display_name": "Python 3.9.12 ('base')",
   "language": "python",
   "name": "python3"
  },
  "language_info": {
   "codemirror_mode": {
    "name": "ipython",
    "version": 3
   },
   "file_extension": ".py",
   "mimetype": "text/x-python",
   "name": "python",
   "nbconvert_exporter": "python",
   "pygments_lexer": "ipython3",
   "version": "3.9.12"
  },
  "orig_nbformat": 4,
  "vscode": {
   "interpreter": {
    "hash": "c2032020440b0bd724902a671edb93f8cebb68488612e100320a0417abc157de"
   }
  }
 },
 "nbformat": 4,
 "nbformat_minor": 2
}
