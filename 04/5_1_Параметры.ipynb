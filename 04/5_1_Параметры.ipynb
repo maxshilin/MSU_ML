{
  "cells": [
    {
      "cell_type": "code",
      "execution_count": 1,
      "metadata": {
        "id": "uLD-_TQXiG75"
      },
      "outputs": [
        {
          "name": "stdout",
          "output_type": "stream",
          "text": [
            "0.9833333333333333\n"
          ]
        }
      ],
      "source": [
        "from sklearn.tree import DecisionTreeClassifier\n",
        "from sklearn.model_selection import train_test_split\n",
        "\n",
        "from sklearn.datasets import load_iris\n",
        "X, y = load_iris(return_X_y=True)\n",
        "\n",
        "X_train, x_test, y_train, y_test = train_test_split(X, y, train_size=0.6, random_state=42)\n",
        "clf = DecisionTreeClassifier(criterion = \"gini\", max_depth=3)\n",
        "\n",
        "clf.fit(X_train, y_train)\n",
        "preds = clf.predict(x_test)\n",
        "\n",
        "acc = clf.score(x_test, y_test)\n",
        "\n",
        "print(acc)"
      ]
    },
    {
      "cell_type": "code",
      "execution_count": null,
      "metadata": {},
      "outputs": [],
      "source": []
    }
  ],
  "metadata": {
    "colab": {
      "provenance": []
    },
    "kernelspec": {
      "display_name": "Python 3.9.12 ('base')",
      "language": "python",
      "name": "python3"
    },
    "language_info": {
      "codemirror_mode": {
        "name": "ipython",
        "version": 3
      },
      "file_extension": ".py",
      "mimetype": "text/x-python",
      "name": "python",
      "nbconvert_exporter": "python",
      "pygments_lexer": "ipython3",
      "version": "3.9.12"
    },
    "vscode": {
      "interpreter": {
        "hash": "c2032020440b0bd724902a671edb93f8cebb68488612e100320a0417abc157de"
      }
    }
  },
  "nbformat": 4,
  "nbformat_minor": 0
}
