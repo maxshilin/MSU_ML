{
  "cells": [
    {
      "cell_type": "code",
      "execution_count": 1,
      "metadata": {
        "id": "PGW711H54ZLd"
      },
      "outputs": [],
      "source": [
        "import numpy as np\n",
        "\n",
        "\n",
        "class KMeans:\n",
        "    def __init__(self, K: int, init: np.array):\n",
        "        self.K = K\n",
        "        self.cluster_centers_ = init\n",
        "\n",
        "    def fit(self, X: np.array):\n",
        "        while True:\n",
        "            distance = np.empty((self.K, X.shape[0]), dtype=np.float64)\n",
        "            for i, center in enumerate(self.cluster_centers_):\n",
        "                distance[i, :] = np.linalg.norm(np.subtract(X, center), axis=1)\n",
        "            \n",
        "            classes = np.argmin(distance, axis=0)\n",
        "            new_cluster_centers = np.empty(self.cluster_centers_.shape, dtype=np.float64)\n",
        "\n",
        "            for k in range(self.K):\n",
        "                points = X[classes==k, :]\n",
        "                if points.size != 0:\n",
        "                    new_cluster_centers[k, :] = np.mean(points, axis=0)\n",
        "                else:\n",
        "                    new_cluster_centers[k, :] = self.cluster_centers_[k, :]\n",
        "\n",
        "            if np.max(np.linalg.norm(new_cluster_centers - self.cluster_centers_, axis=1)) < 0.001:\n",
        "                self.cluster_centers_ = new_cluster_centers\n",
        "                break\n",
        "            \n",
        "            self.cluster_centers_ = new_cluster_centers\n",
        "\n",
        "        return self \n",
        "\n",
        "    def predict(self, X: np.array):\n",
        "        distance = np.empty((self.K, X.shape[0]), dtype=np.float64)\n",
        "        for i, center in enumerate(self.cluster_centers_):\n",
        "            distance[i, :] = np.linalg.norm(np.subtract(X, center), axis=1)\n",
        "        \n",
        "        return np.argmin(distance, axis=0)  "
      ]
    }
  ],
  "metadata": {
    "colab": {
      "provenance": []
    },
    "kernelspec": {
      "display_name": "Python 3.9.15 ('base')",
      "language": "python",
      "name": "python3"
    },
    "language_info": {
      "codemirror_mode": {
        "name": "ipython",
        "version": 3
      },
      "file_extension": ".py",
      "mimetype": "text/x-python",
      "name": "python",
      "nbconvert_exporter": "python",
      "pygments_lexer": "ipython3",
      "version": "3.9.15"
    },
    "vscode": {
      "interpreter": {
        "hash": "c2032020440b0bd724902a671edb93f8cebb68488612e100320a0417abc157de"
      }
    }
  },
  "nbformat": 4,
  "nbformat_minor": 0
}
